{
 "cells": [
  {
   "cell_type": "markdown",
   "id": "15296953",
   "metadata": {},
   "source": [
    "## Inheritance"
   ]
  },
  {
   "cell_type": "markdown",
   "id": "8dca0feb",
   "metadata": {},
   "source": [
    "A parent class"
   ]
  },
  {
   "cell_type": "code",
   "execution_count": 2,
   "id": "54b136ee",
   "metadata": {},
   "outputs": [],
   "source": [
    "class Animal:\n",
    "    def give_sound (self, sound):\n",
    "        print(sound)"
   ]
  },
  {
   "cell_type": "code",
   "execution_count": 3,
   "id": "fe4008ad",
   "metadata": {},
   "outputs": [
    {
     "name": "stdout",
     "output_type": "stream",
     "text": [
      "woof\n"
     ]
    }
   ],
   "source": [
    "my_animal = Animal()\n",
    "my_animal.give_sound('woof')"
   ]
  },
  {
   "cell_type": "markdown",
   "id": "33fd5d17",
   "metadata": {},
   "source": [
    "Child Class"
   ]
  },
  {
   "cell_type": "code",
   "execution_count": 4,
   "id": "0f16c0a9",
   "metadata": {},
   "outputs": [],
   "source": [
    "class Dog(Animal):\n",
    "    def bark(self):\n",
    "        self.give_sound('woof')\n"
   ]
  },
  {
   "cell_type": "code",
   "execution_count": 5,
   "id": "78b55d43",
   "metadata": {},
   "outputs": [
    {
     "name": "stdout",
     "output_type": "stream",
     "text": [
      "woof\n"
     ]
    }
   ],
   "source": [
    "my_doggy = Dog()\n",
    "my_doggy.bark()"
   ]
  },
  {
   "cell_type": "markdown",
   "id": "7f815c89",
   "metadata": {},
   "source": [
    "Parent Class"
   ]
  },
  {
   "cell_type": "code",
   "execution_count": 6,
   "id": "7a00aed9",
   "metadata": {},
   "outputs": [],
   "source": [
    "class Person:\n",
    "    def __init__(self, first_name, last_name):\n",
    "        self.first_name = first_name\n",
    "        self.last_name = last_name\n"
   ]
  },
  {
   "cell_type": "markdown",
   "id": "c24e6899",
   "metadata": {},
   "source": [
    "Student Class without inheritance"
   ]
  },
  {
   "cell_type": "code",
   "execution_count": 14,
   "id": "f6bb7091",
   "metadata": {},
   "outputs": [
    {
     "name": "stdout",
     "output_type": "stream",
     "text": [
      "Name: Reccy Asingwa, index: 11511\n"
     ]
    }
   ],
   "source": [
    "class Student:\n",
    "    def __init__(self, first_name, last_name, index_number):\n",
    "        self.first_name = first_name\n",
    "        self.last_name = last_name\n",
    "        self.index_number = index_number\n",
    "\n",
    "    def display_info(self):\n",
    "        print(f\"Name: {self.first_name} {self.last_name}, index: {self.index_number}\")\n",
    "\n",
    "student1 = Student('Reccy', 'Asingwa', '11511')\n",
    "student1.display_info()"
   ]
  },
  {
   "cell_type": "code",
   "execution_count": 16,
   "id": "d76051d2",
   "metadata": {},
   "outputs": [
    {
     "name": "stdout",
     "output_type": "stream",
     "text": [
      "Name: Reccy Asingwa, index: 11511\n"
     ]
    }
   ],
   "source": [
    "class Student(Person):\n",
    "    def __init__(self, first_name, last_name, index_number):\n",
    "        super().__init__(first_name, last_name)\n",
    "        self.index_number = index_number\n",
    "       \n",
    "\n",
    "    def display_info(self):\n",
    "        print(f\"Name: {self.first_name} {self.last_name}, index: {self.index_number}\")\n",
    "\n",
    "student1 = Student('Reccy', 'Asingwa', '11511')\n",
    "\n",
    "student1.display_info()"
   ]
  }
 ],
 "metadata": {
  "kernelspec": {
   "display_name": "Python 3",
   "language": "python",
   "name": "python3"
  },
  "language_info": {
   "codemirror_mode": {
    "name": "ipython",
    "version": 3
   },
   "file_extension": ".py",
   "mimetype": "text/x-python",
   "name": "python",
   "nbconvert_exporter": "python",
   "pygments_lexer": "ipython3",
   "version": "3.12.1"
  }
 },
 "nbformat": 4,
 "nbformat_minor": 5
}
