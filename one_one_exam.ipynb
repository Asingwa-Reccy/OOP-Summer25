{
 "cells": [
  {
   "cell_type": "code",
   "execution_count": 1,
   "id": "a06a6cd2",
   "metadata": {},
   "outputs": [
    {
     "name": "stdout",
     "output_type": "stream",
     "text": [
      "reccy\n"
     ]
    }
   ],
   "source": [
    "print(\"reccy\")"
   ]
  },
  {
   "cell_type": "code",
   "execution_count": 2,
   "id": "6949d8c7",
   "metadata": {},
   "outputs": [
    {
     "name": "stdout",
     "output_type": "stream",
     "text": [
      "20\n"
     ]
    }
   ],
   "source": [
    "x = 20\n",
    "print(x)"
   ]
  },
  {
   "cell_type": "code",
   "execution_count": 4,
   "id": "444c8e28",
   "metadata": {},
   "outputs": [
    {
     "name": "stdout",
     "output_type": "stream",
     "text": [
      "<class 'int'>\n"
     ]
    }
   ],
   "source": [
    "print(type(x))"
   ]
  },
  {
   "cell_type": "code",
   "execution_count": 6,
   "id": "05054ff5",
   "metadata": {},
   "outputs": [
    {
     "name": "stdout",
     "output_type": "stream",
     "text": [
      "reccy\n",
      "<class 'str'>\n"
     ]
    }
   ],
   "source": [
    "my_name = \"reccy\"\n",
    "print(my_name)\n",
    "print(type(my_name))"
   ]
  },
  {
   "cell_type": "code",
   "execution_count": 8,
   "id": "419b6b30",
   "metadata": {},
   "outputs": [
    {
     "name": "stdout",
     "output_type": "stream",
     "text": [
      "kenya\n",
      "uganda\n",
      "poland\n",
      "jamaica\n"
     ]
    }
   ],
   "source": [
    "countries = ['kenya', 'uganda', 'poland', 'jamaica']\n",
    "for c in countries:\n",
    "    print(c)"
   ]
  },
  {
   "cell_type": "code",
   "execution_count": 11,
   "id": "918ea104",
   "metadata": {},
   "outputs": [
    {
     "name": "stdout",
     "output_type": "stream",
     "text": [
      "kenya\n",
      "this is my country\n",
      "uganda\n",
      "poland\n",
      "jamaica\n"
     ]
    }
   ],
   "source": [
    "for c in countries:\n",
    "    print(c)\n",
    "    if c == 'kenya':\n",
    "        print(\"this is my country\")"
   ]
  },
  {
   "cell_type": "code",
   "execution_count": 12,
   "id": "6130bcaa",
   "metadata": {},
   "outputs": [],
   "source": [
    "Student1 = {\n",
    "    'name': 'asingwa',\n",
    "    'index_number' : '20203'\n",
    "}"
   ]
  },
  {
   "cell_type": "code",
   "execution_count": 13,
   "id": "da10ea3d",
   "metadata": {},
   "outputs": [
    {
     "name": "stdout",
     "output_type": "stream",
     "text": [
      "my name is asingwa\n"
     ]
    }
   ],
   "source": [
    "print(\"my name is\", Student1['name'])"
   ]
  },
  {
   "cell_type": "code",
   "execution_count": 16,
   "id": "43ae489e",
   "metadata": {},
   "outputs": [],
   "source": [
    "class Student:\n",
    "    def __init__(self, name, index_number):\n",
    "        self.name = name\n",
    "        self.index_number = index_number"
   ]
  },
  {
   "cell_type": "code",
   "execution_count": 25,
   "id": "741f2b96",
   "metadata": {},
   "outputs": [],
   "source": [
    "student1 = Student ('Pinky', '20204')\n",
    "student2 = Student ('Rey', '20205')\n",
    "student3 = Student ('Sasha', '20206')\n"
   ]
  },
  {
   "cell_type": "code",
   "execution_count": 28,
   "id": "71657950",
   "metadata": {},
   "outputs": [
    {
     "name": "stdout",
     "output_type": "stream",
     "text": [
      "Sasha\n",
      "Rey 20205\n"
     ]
    }
   ],
   "source": [
    "print(student3.name)\n",
    "print(student2.name,student2.index_number)"
   ]
  }
 ],
 "metadata": {
  "kernelspec": {
   "display_name": "Python 3",
   "language": "python",
   "name": "python3"
  },
  "language_info": {
   "codemirror_mode": {
    "name": "ipython",
    "version": 3
   },
   "file_extension": ".py",
   "mimetype": "text/x-python",
   "name": "python",
   "nbconvert_exporter": "python",
   "pygments_lexer": "ipython3",
   "version": "3.12.1"
  }
 },
 "nbformat": 4,
 "nbformat_minor": 5
}
