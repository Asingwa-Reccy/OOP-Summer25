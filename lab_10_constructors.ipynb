{
 "cells": [
  {
   "cell_type": "markdown",
   "id": "8d9d6d6a",
   "metadata": {},
   "source": [
    "## class"
   ]
  },
  {
   "cell_type": "code",
   "execution_count": 2,
   "id": "957eb6b1",
   "metadata": {},
   "outputs": [],
   "source": [
    "class Animal:\n",
    "    def __init__(self):\n",
    "        print(\"elephants are my favourite animals\")"
   ]
  },
  {
   "cell_type": "code",
   "execution_count": 3,
   "id": "a6d1f3b8",
   "metadata": {},
   "outputs": [
    {
     "name": "stdout",
     "output_type": "stream",
     "text": [
      "elephants are my favourite animals\n",
      "elephants are my favourite animals\n",
      "elephants are my favourite animals\n"
     ]
    }
   ],
   "source": [
    "animal1 = Animal()\n",
    "animal2 = Animal()\n",
    "animal3 = Animal()"
   ]
  },
  {
   "cell_type": "markdown",
   "id": "6fdd4486",
   "metadata": {},
   "source": [
    "Car"
   ]
  },
  {
   "cell_type": "code",
   "execution_count": 4,
   "id": "747a7071",
   "metadata": {},
   "outputs": [],
   "source": [
    "class Car:\n",
    "    def __init__(self, brand, model):\n",
    "        self.brand = brand\n",
    "        self.model = model\n"
   ]
  },
  {
   "cell_type": "code",
   "execution_count": 5,
   "id": "13ea94ca",
   "metadata": {},
   "outputs": [],
   "source": [
    "car1 = Car(\"toyota\", \"corolla\")\n",
    "car2 = Car(\"marcedees\", \"bugatti\")\n",
    "car3 = Car(\"VW\", \"golf\")"
   ]
  }
 ],
 "metadata": {
  "kernelspec": {
   "display_name": "Python 3",
   "language": "python",
   "name": "python3"
  },
  "language_info": {
   "codemirror_mode": {
    "name": "ipython",
    "version": 3
   },
   "file_extension": ".py",
   "mimetype": "text/x-python",
   "name": "python",
   "nbconvert_exporter": "python",
   "pygments_lexer": "ipython3",
   "version": "3.12.1"
  }
 },
 "nbformat": 4,
 "nbformat_minor": 5
}
