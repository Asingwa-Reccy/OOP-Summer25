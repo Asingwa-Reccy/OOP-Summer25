{
 "cells": [
  {
   "cell_type": "markdown",
   "id": "8d9d6d6a",
   "metadata": {},
   "source": [
    "## class"
   ]
  },
  {
   "cell_type": "code",
   "execution_count": 2,
   "id": "957eb6b1",
   "metadata": {},
   "outputs": [],
   "source": [
    "class Animal:\n",
    "    def __init__(self):\n",
    "        print(\"elephants are my favourite animals\")"
   ]
  },
  {
   "cell_type": "code",
   "execution_count": 3,
   "id": "a6d1f3b8",
   "metadata": {},
   "outputs": [
    {
     "name": "stdout",
     "output_type": "stream",
     "text": [
      "elephants are my favourite animals\n",
      "elephants are my favourite animals\n",
      "elephants are my favourite animals\n"
     ]
    }
   ],
   "source": [
    "animal1 = Animal()\n",
    "animal2 = Animal()\n",
    "animal3 = Animal()"
   ]
  },
  {
   "cell_type": "markdown",
   "id": "6fdd4486",
   "metadata": {},
   "source": [
    "Car"
   ]
  },
  {
   "cell_type": "code",
   "execution_count": 4,
   "id": "747a7071",
   "metadata": {},
   "outputs": [],
   "source": [
    "class Car:\n",
    "    def __init__(self, brand, model):\n",
    "        self.brand = brand\n",
    "        self.model = model\n"
   ]
  },
  {
   "cell_type": "code",
   "execution_count": 6,
   "id": "13ea94ca",
   "metadata": {},
   "outputs": [],
   "source": [
    "car1 = Car(\"toyota\", \"corolla\")\n",
    "car2 = Car(\"marcedees\", \"bugatti\")\n",
    "car3 = Car(\"VW\", \"golf\")"
   ]
  },
  {
   "cell_type": "markdown",
   "id": "20d21d82",
   "metadata": {},
   "source": [
    "## Task for extra point - complex constructor"
   ]
  },
  {
   "cell_type": "code",
   "execution_count": 7,
   "id": "39e48a38",
   "metadata": {},
   "outputs": [],
   "source": [
    "class House:\n",
    "     def __init__(self, location, floors, furnitures):\n",
    "        self.location = location\n",
    "        self.floors = floors\n",
    "        self.furnitures = furnitures"
   ]
  },
  {
   "cell_type": "code",
   "execution_count": 16,
   "id": "dd7720cf",
   "metadata": {},
   "outputs": [],
   "source": [
    "house1 = House (\n",
    "  location={'country': 'Poland', 'city': 'Warsaw', 'street': 'Morske Oko'},\n",
    "  floors=2,\n",
    "  furnitures=['Sofa', 'Table', 'Bed']\n",
    ")"
   ]
  },
  {
   "cell_type": "code",
   "execution_count": 17,
   "id": "164efdc4",
   "metadata": {},
   "outputs": [],
   "source": [
    "house2 = House (\n",
    "  location={'country': 'Kenya', 'city': 'Nairobi', 'street': 'Kilimani'},\n",
    "  floors=2,\n",
    "  furnitures=['Dinning Table', 'Okno', 'Bed']\n",
    ")"
   ]
  }
 ],
 "metadata": {
  "kernelspec": {
   "display_name": "Python 3",
   "language": "python",
   "name": "python3"
  },
  "language_info": {
   "codemirror_mode": {
    "name": "ipython",
    "version": 3
   },
   "file_extension": ".py",
   "mimetype": "text/x-python",
   "name": "python",
   "nbconvert_exporter": "python",
   "pygments_lexer": "ipython3",
   "version": "3.12.1"
  }
 },
 "nbformat": 4,
 "nbformat_minor": 5
}
