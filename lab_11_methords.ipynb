{
 "cells": [
  {
   "cell_type": "markdown",
   "id": "b876ea63",
   "metadata": {},
   "source": [
    "## Lab 11. Task 1"
   ]
  },
  {
   "cell_type": "code",
   "execution_count": 12,
   "id": "e9c8c3ba",
   "metadata": {},
   "outputs": [],
   "source": [
    "class Student:\n",
    "    def say_Hello(self):\n",
    "        print(\"Hello! I am Rafiki.\")"
   ]
  },
  {
   "cell_type": "code",
   "execution_count": 13,
   "id": "e2136866",
   "metadata": {},
   "outputs": [
    {
     "name": "stdout",
     "output_type": "stream",
     "text": [
      "Hello! I am Rafiki.\n"
     ]
    }
   ],
   "source": [
    "student = Student()\n",
    "student.say_Hello()"
   ]
  },
  {
   "cell_type": "code",
   "execution_count": 15,
   "id": "2e82acb0",
   "metadata": {},
   "outputs": [],
   "source": [
    "class Student:\n",
    "    def __init__(self, name, index_number):\n",
    "        self.name = name\n",
    "        self.index_number = index_number\n",
    "\n",
    "    def hello(self):\n",
    "        print(f\"Hello! I'm {self.name}, and my index number is {self.index_number}.\")"
   ]
  },
  {
   "cell_type": "code",
   "execution_count": 16,
   "id": "1ab06e06",
   "metadata": {},
   "outputs": [
    {
     "name": "stdout",
     "output_type": "stream",
     "text": [
      "Hello! I'm Rafiki, and my index number is 20205.\n"
     ]
    }
   ],
   "source": [
    "student = Student(\"Rafiki\", \"20205\")\n",
    "student.hello()"
   ]
  }
 ],
 "metadata": {
  "kernelspec": {
   "display_name": "Python 3",
   "language": "python",
   "name": "python3"
  },
  "language_info": {
   "codemirror_mode": {
    "name": "ipython",
    "version": 3
   },
   "file_extension": ".py",
   "mimetype": "text/x-python",
   "name": "python",
   "nbconvert_exporter": "python",
   "pygments_lexer": "ipython3",
   "version": "3.12.1"
  }
 },
 "nbformat": 4,
 "nbformat_minor": 5
}
