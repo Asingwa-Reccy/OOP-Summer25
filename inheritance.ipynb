{
 "cells": [
  {
   "cell_type": "markdown",
   "id": "27616817",
   "metadata": {},
   "source": [
    "## Inheritance"
   ]
  },
  {
   "cell_type": "markdown",
   "id": "a1dd41fe",
   "metadata": {},
   "source": [
    "Parent Class "
   ]
  },
  {
   "cell_type": "code",
   "execution_count": 1,
   "id": "b52ed48c",
   "metadata": {},
   "outputs": [],
   "source": [
    "class Animal:\n",
    "    def give_sound (self, sound):\n",
    "        print(sound)"
   ]
  },
  {
   "cell_type": "code",
   "execution_count": 2,
   "id": "833d1f83",
   "metadata": {},
   "outputs": [
    {
     "name": "stdout",
     "output_type": "stream",
     "text": [
      "woof\n"
     ]
    }
   ],
   "source": [
    "my_animal = Animal()\n",
    "my_animal.give_sound('woof')"
   ]
  },
  {
   "cell_type": "markdown",
   "id": "8afa73a9",
   "metadata": {},
   "source": [
    "Child Class"
   ]
  },
  {
   "cell_type": "code",
   "execution_count": 3,
   "id": "2f6e6f7b",
   "metadata": {},
   "outputs": [],
   "source": [
    "class Dog(Animal):\n",
    "    def bark(self):\n",
    "        self.give_sound('woof')"
   ]
  },
  {
   "cell_type": "code",
   "execution_count": 4,
   "id": "992a3aaf",
   "metadata": {},
   "outputs": [
    {
     "name": "stdout",
     "output_type": "stream",
     "text": [
      "woof\n"
     ]
    }
   ],
   "source": [
    "my_doggy = Dog()\n",
    "my_doggy.bark()"
   ]
  },
  {
   "cell_type": "markdown",
   "id": "3a6d131d",
   "metadata": {},
   "source": [
    "Parent Class"
   ]
  },
  {
   "cell_type": "code",
   "execution_count": 5,
   "id": "556edc55",
   "metadata": {},
   "outputs": [],
   "source": [
    "class Person:\n",
    "    def __init__(self, first_name, last_name):\n",
    "        self.first_name = first_name\n",
    "        self.last_name = last_name"
   ]
  },
  {
   "cell_type": "markdown",
   "id": "37343ad7",
   "metadata": {},
   "source": [
    "Student Class without inheritance"
   ]
  },
  {
   "cell_type": "code",
   "execution_count": 6,
   "id": "8cb47467",
   "metadata": {},
   "outputs": [
    {
     "name": "stdout",
     "output_type": "stream",
     "text": [
      "Name: Reccy Asingwa, index: 11511\n"
     ]
    }
   ],
   "source": [
    "class Student:\n",
    "    def __init__(self, first_name, last_name, index_number):\n",
    "        self.first_name = first_name\n",
    "        self.last_name = last_name\n",
    "        self.index_number = index_number\n",
    "\n",
    "    def display_info(self):\n",
    "        print(f\"Name: {self.first_name} {self.last_name}, index: {self.index_number}\")\n",
    "\n",
    "student1 = Student('Reccy', 'Asingwa', '11511')\n",
    "student1.display_info()"
   ]
  },
  {
   "cell_type": "markdown",
   "id": "d01651f1",
   "metadata": {},
   "source": [
    "Student Class with inheritance (as child)"
   ]
  },
  {
   "cell_type": "code",
   "execution_count": 7,
   "id": "6bc32e9c",
   "metadata": {},
   "outputs": [
    {
     "name": "stdout",
     "output_type": "stream",
     "text": [
      "Name: Reccy Asingwa, index: 11511\n"
     ]
    }
   ],
   "source": [
    "class Student(Person):\n",
    "    def __init__(self, first_name, last_name, index_number):\n",
    "        super().__init__(first_name, last_name)\n",
    "        self.index_number = index_number\n",
    "       \n",
    "\n",
    "    def display_info(self):\n",
    "        print(f\"Name: {self.first_name} {self.last_name}, index: {self.index_number}\")\n",
    "\n",
    "student1 = Student('Reccy', 'Asingwa', '11511')\n",
    "\n",
    "student1.display_info()"
   ]
  }
 ],
 "metadata": {
  "kernelspec": {
   "display_name": "Python 3",
   "language": "python",
   "name": "python3"
  },
  "language_info": {
   "codemirror_mode": {
    "name": "ipython",
    "version": 3
   },
   "file_extension": ".py",
   "mimetype": "text/x-python",
   "name": "python",
   "nbconvert_exporter": "python",
   "pygments_lexer": "ipython3",
   "version": "3.12.1"
  }
 },
 "nbformat": 4,
 "nbformat_minor": 5
}
