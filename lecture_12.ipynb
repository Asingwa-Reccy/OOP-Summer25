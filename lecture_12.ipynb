{
 "cells": [
  {
   "cell_type": "code",
   "execution_count": 21,
   "id": "dc399e5e",
   "metadata": {},
   "outputs": [],
   "source": [
    "class Car:\n",
    "    def __init__(self, brand, engine_status='off'):\n",
    "        self.brand = brand\n",
    "        self.screen = ''\n",
    "        self.engine_status = engine_status\n",
    "        self.__memory = {}\n",
    "\n",
    "    def type_letter(self, letter):\n",
    "        self.screen = letter\n",
    "        self.__memory['last_letter'] = letter\n",
    "\n",
    "    def __erase_the_memory(self):\n",
    "        self.__memory = {}\n",
    "        print('memory is clean')\n",
    "\n",
    "    def turn_off(self):\n",
    "        self.engine_status = 'off'\n",
    "        print('Turning off')\n",
    "\n",
    "    def turn_on(self):\n",
    "        self.engine_status = 'on'\n",
    "        print('Turning on')\n",
    "\n",
    "    def show_me_the_memory(self):\n",
    "        print(self.__memory)\n",
    "\n",
    "    def clean_my_brain(self):  \n",
    "        self.__erase_the_memory()"
   ]
  },
  {
   "cell_type": "code",
   "execution_count": null,
   "id": "ceec1090",
   "metadata": {},
   "outputs": [
    {
     "name": "stdout",
     "output_type": "stream",
     "text": [
      "Tesla\n",
      "Turning on\n",
      "on\n",
      "Q\n",
      "Turning off\n"
     ]
    }
   ],
   "source": [
    "my_car = Car(\"Tesla\")\n",
    "print(my_car.brand)          \n",
    "my_car.turn_on()              \n",
    "print(my_car.engine_status)  \n",
    "my_car.type_letter('Q')\n",
    "print(my_car.screen)          \n",
    "my_car.turn_off()         \n",
    "\n"
   ]
  },
  {
   "cell_type": "code",
   "execution_count": 23,
   "id": "838b9c20",
   "metadata": {},
   "outputs": [],
   "source": [
    "my_car2 = Car(\"Tesla\")"
   ]
  },
  {
   "cell_type": "code",
   "execution_count": 24,
   "id": "69bd95a5",
   "metadata": {},
   "outputs": [
    {
     "name": "stdout",
     "output_type": "stream",
     "text": [
      "memory is clean\n"
     ]
    }
   ],
   "source": [
    "my_car2.clean_my_brain()"
   ]
  }
 ],
 "metadata": {
  "kernelspec": {
   "display_name": "Python 3",
   "language": "python",
   "name": "python3"
  },
  "language_info": {
   "codemirror_mode": {
    "name": "ipython",
    "version": 3
   },
   "file_extension": ".py",
   "mimetype": "text/x-python",
   "name": "python",
   "nbconvert_exporter": "python",
   "pygments_lexer": "ipython3",
   "version": "3.12.1"
  }
 },
 "nbformat": 4,
 "nbformat_minor": 5
}
