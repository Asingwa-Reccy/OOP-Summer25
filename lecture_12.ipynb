{
 "cells": [
  {
   "cell_type": "code",
   "execution_count": 6,
   "id": "dc399e5e",
   "metadata": {},
   "outputs": [],
   "source": [
    "class Car:\n",
    "    def __init__(self, brand, engine_status='off'):\n",
    "        self.brand = brand\n",
    "        self.screen = ''\n",
    "        self.engine_status = engine_status\n",
    "\n",
    "    def type_letter(self, letter):\n",
    "        self.screen = letter\n",
    "\n",
    "    def turn_off(self):\n",
    "        self.engine_status = 'off'\n",
    "        print('Turning off')\n",
    "\n",
    "    def turn_on(self):\n",
    "        self.engine_status = 'on'\n",
    "        print('Turning on')"
   ]
  },
  {
   "cell_type": "code",
   "execution_count": 9,
   "id": "ceec1090",
   "metadata": {},
   "outputs": [
    {
     "name": "stdout",
     "output_type": "stream",
     "text": [
      "Tesla\n",
      "Turning on\n",
      "on\n",
      "Q\n",
      "Turning off\n"
     ]
    }
   ],
   "source": [
    "my_car = Car(\"Tesla\")\n",
    "print(my_car.brand)          \n",
    "my_car.turn_on()              \n",
    "print(my_car.engine_status)  \n",
    "my_car.type_letter('Q')\n",
    "print(my_car.screen)          \n",
    "my_car.turn_off()         \n",
    "\n"
   ]
  }
 ],
 "metadata": {
  "kernelspec": {
   "display_name": "Python 3",
   "language": "python",
   "name": "python3"
  },
  "language_info": {
   "codemirror_mode": {
    "name": "ipython",
    "version": 3
   },
   "file_extension": ".py",
   "mimetype": "text/x-python",
   "name": "python",
   "nbconvert_exporter": "python",
   "pygments_lexer": "ipython3",
   "version": "3.12.1"
  }
 },
 "nbformat": 4,
 "nbformat_minor": 5
}
