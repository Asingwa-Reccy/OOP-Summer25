{
 "cells": [
  {
   "cell_type": "markdown",
   "id": "f3b1e131",
   "metadata": {},
   "source": [
    "# Simplest Class Ever"
   ]
  },
  {
   "cell_type": "code",
   "execution_count": 1,
   "id": "4e5966ec",
   "metadata": {},
   "outputs": [],
   "source": [
    "class Bike:\n",
    "    pass"
   ]
  },
  {
   "cell_type": "markdown",
   "id": "f327d025",
   "metadata": {},
   "source": [
    "### What can we do with such a class"
   ]
  },
  {
   "cell_type": "markdown",
   "id": "476ca5ca",
   "metadata": {},
   "source": [
    "1. We can create object even if it is empty"
   ]
  },
  {
   "cell_type": "code",
   "execution_count": 2,
   "id": "d345c04b",
   "metadata": {},
   "outputs": [
    {
     "data": {
      "text/plain": [
       "<__main__.Bike at 0x72e9fc18aa50>"
      ]
     },
     "execution_count": 2,
     "metadata": {},
     "output_type": "execute_result"
    }
   ],
   "source": [
    "Bike()"
   ]
  },
  {
   "cell_type": "markdown",
   "id": "018ba38d",
   "metadata": {},
   "source": [
    "2. Create and assign object to a variable"
   ]
  },
  {
   "cell_type": "code",
   "execution_count": 4,
   "id": "db6f16c0",
   "metadata": {},
   "outputs": [],
   "source": [
    "my_bike = Bike()"
   ]
  }
 ],
 "metadata": {
  "kernelspec": {
   "display_name": "Python 3",
   "language": "python",
   "name": "python3"
  },
  "language_info": {
   "codemirror_mode": {
    "name": "ipython",
    "version": 3
   },
   "file_extension": ".py",
   "mimetype": "text/x-python",
   "name": "python",
   "nbconvert_exporter": "python",
   "pygments_lexer": "ipython3",
   "version": "3.12.1"
  }
 },
 "nbformat": 4,
 "nbformat_minor": 5
}
