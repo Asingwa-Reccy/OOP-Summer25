{
 "cells": [
  {
   "cell_type": "code",
   "execution_count": 1,
   "id": "b71f4d46",
   "metadata": {},
   "outputs": [
    {
     "name": "stdout",
     "output_type": "stream",
     "text": [
      "reccy\n"
     ]
    }
   ],
   "source": [
    "print (\"reccy\")"
   ]
  },
  {
   "cell_type": "code",
   "execution_count": 2,
   "id": "a421c7ec",
   "metadata": {},
   "outputs": [
    {
     "name": "stdout",
     "output_type": "stream",
     "text": [
      "5\n"
     ]
    }
   ],
   "source": [
    "x = (5)\n",
    "print (x)"
   ]
  },
  {
   "cell_type": "code",
   "execution_count": 3,
   "id": "b7e3a34f",
   "metadata": {},
   "outputs": [
    {
     "name": "stdout",
     "output_type": "stream",
     "text": [
      "<class 'int'>\n"
     ]
    }
   ],
   "source": [
    "x = (type(5))\n",
    "print(x)"
   ]
  },
  {
   "cell_type": "code",
   "execution_count": 4,
   "id": "8223c525",
   "metadata": {},
   "outputs": [
    {
     "name": "stdout",
     "output_type": "stream",
     "text": [
      "Object Oriented Programming\n"
     ]
    }
   ],
   "source": [
    "my_assignments = \"Object Oriented Programming\"\n",
    "print(my_assignments)"
   ]
  },
  {
   "cell_type": "code",
   "execution_count": 5,
   "id": "6b96d261",
   "metadata": {},
   "outputs": [
    {
     "name": "stdout",
     "output_type": "stream",
     "text": [
      "<class 'str'>\n"
     ]
    }
   ],
   "source": [
    "print(type(my_assignments))"
   ]
  },
  {
   "cell_type": "code",
   "execution_count": 6,
   "id": "8943dacf",
   "metadata": {},
   "outputs": [
    {
     "name": "stdout",
     "output_type": "stream",
     "text": [
      "Kenya\n",
      "Uganda\n",
      "Tanzania\n",
      "Rwanda\n"
     ]
    }
   ],
   "source": [
    "Countries = ['Kenya', 'Uganda', 'Tanzania', 'Rwanda']\n",
    "for c in Countries:\n",
    "    print(c)"
   ]
  },
  {
   "cell_type": "code",
   "execution_count": 7,
   "id": "1a3f1051",
   "metadata": {},
   "outputs": [
    {
     "name": "stdout",
     "output_type": "stream",
     "text": [
      "Kenya\n",
      "This is my country\n",
      "Uganda\n",
      "Tanzania\n",
      "Rwanda\n"
     ]
    }
   ],
   "source": [
    "for c in Countries:\n",
    "    print(c)\n",
    "    if c == 'Kenya':\n",
    "        print('This is my country')"
   ]
  },
  {
   "cell_type": "code",
   "execution_count": 16,
   "id": "d8deae5d",
   "metadata": {},
   "outputs": [
    {
     "name": "stdout",
     "output_type": "stream",
     "text": [
      "asingwa is smart\n",
      "My name is asingwa\n"
     ]
    }
   ],
   "source": [
    "Student1 = {\n",
    "    'name' : 'asingwa',\n",
    "    'index_number' : '20205'\n",
    "}\n",
    "print(Student1['name'],\"is smart\")\n",
    "print(\"My name is\", Student1['name'])"
   ]
  },
  {
   "cell_type": "code",
   "execution_count": 23,
   "id": "8f2f7c3f",
   "metadata": {},
   "outputs": [
    {
     "name": "stdout",
     "output_type": "stream",
     "text": [
      "This is Goat number 11511\n"
     ]
    }
   ],
   "source": [
    "Animal1 = {\n",
    "    'name' : 'Goat',\n",
    "    'identification_number' : '11511'\n",
    "}\n",
    "print(\"This is\", Animal1['name'],\"number\", Animal1 ['identification_number'])\n"
   ]
  },
  {
   "cell_type": "code",
   "execution_count": 28,
   "id": "7ebbc61b",
   "metadata": {},
   "outputs": [
    {
     "name": "stdout",
     "output_type": "stream",
     "text": [
      "Pinky Duff 25202\n",
      "Purple Hearts 420\n",
      "Jam Session Music 101\n"
     ]
    }
   ],
   "source": [
    "class student:\n",
    "    def __init__(self, name, index_number):\n",
    "        self.name = name\n",
    "        self.index_number = index_number\n",
    "\n",
    "Student1 = student('Pinky Duff', '25202')\n",
    "Student2 = student('Purple Hearts', '420')\n",
    "Student3 = student('Jam Session', 'Music 101')\n",
    "\n",
    "print(Student1.name, Student1.index_number)\n",
    "print(Student2.name, Student2.index_number)\n",
    "print(Student3.name, Student3.index_number)\n"
   ]
  },
  {
   "cell_type": "code",
   "execution_count": 33,
   "id": "928f0ead",
   "metadata": {},
   "outputs": [
    {
     "name": "stdout",
     "output_type": "stream",
     "text": [
      "Cow Mamal\n",
      "Chicken Bird\n",
      "Dolphine Mamal\n",
      "Shark Fish\n",
      "Lizard Reptile\n"
     ]
    }
   ],
   "source": [
    "class animals:\n",
    "    def __init__(self, name, group_of_animal):\n",
    "        self.name = name\n",
    "        self.group_of_animal = group_of_animal\n",
    "\n",
    "Animal1 = animals('Cow', 'Mamal')\n",
    "Animal2 = animals('Chicken', 'Bird')\n",
    "Animal3 = animals('Dolphine', 'Mamal')\n",
    "Animal4 = animals('Shark', 'Fish')\n",
    "Animal5 = animals('Lizard', 'Reptile')\n",
    "\n",
    "print(Animal1.name, Animal1.group_of_animal)\n",
    "print(Animal2.name, Animal2.group_of_animal)\n",
    "print(Animal3.name, Animal3.group_of_animal)\n",
    "print(Animal4.name, Animal4.group_of_animal)\n",
    "print(Animal5.name, Animal5.group_of_animal)\n"
   ]
  }
 ],
 "metadata": {
  "kernelspec": {
   "display_name": "Python 3",
   "language": "python",
   "name": "python3"
  },
  "language_info": {
   "codemirror_mode": {
    "name": "ipython",
    "version": 3
   },
   "file_extension": ".py",
   "mimetype": "text/x-python",
   "name": "python",
   "nbconvert_exporter": "python",
   "pygments_lexer": "ipython3",
   "version": "3.12.1"
  }
 },
 "nbformat": 4,
 "nbformat_minor": 5
}
