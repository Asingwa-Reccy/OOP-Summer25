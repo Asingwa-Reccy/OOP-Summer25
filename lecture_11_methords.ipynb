{
 "cells": [
  {
   "cell_type": "markdown",
   "id": "f1c1d5a0",
   "metadata": {},
   "source": [
    "## Functions vs Methords"
   ]
  },
  {
   "cell_type": "markdown",
   "id": "4b70446e",
   "metadata": {},
   "source": [
    "## without arguments"
   ]
  },
  {
   "cell_type": "code",
   "execution_count": 8,
   "id": "191f71ed",
   "metadata": {},
   "outputs": [],
   "source": [
    "def make_sound():\n",
    "    print('squeeky')"
   ]
  },
  {
   "cell_type": "code",
   "execution_count": 9,
   "id": "bd3ecf05",
   "metadata": {},
   "outputs": [
    {
     "name": "stdout",
     "output_type": "stream",
     "text": [
      "squeeky\n"
     ]
    }
   ],
   "source": [
    "make_sound()"
   ]
  },
  {
   "cell_type": "markdown",
   "id": "0db39a1e",
   "metadata": {},
   "source": [
    "Function with arguments"
   ]
  },
  {
   "cell_type": "code",
   "execution_count": 15,
   "id": "68de734b",
   "metadata": {},
   "outputs": [],
   "source": [
    "def make_sound(name):\n",
    "    print('squeeky', name)"
   ]
  },
  {
   "cell_type": "code",
   "execution_count": 16,
   "id": "d2e13949",
   "metadata": {},
   "outputs": [
    {
     "name": "stdout",
     "output_type": "stream",
     "text": [
      "squeeky doggo\n"
     ]
    }
   ],
   "source": [
    "make_sound('doggo')"
   ]
  },
  {
   "cell_type": "markdown",
   "id": "5b691aca",
   "metadata": {},
   "source": [
    "methord without arguments"
   ]
  },
  {
   "cell_type": "code",
   "execution_count": 27,
   "id": "e14cb8e8",
   "metadata": {},
   "outputs": [],
   "source": [
    "class MyDog:\n",
    "    def say_dog(self):\n",
    "        print('My Dog')"
   ]
  },
  {
   "cell_type": "markdown",
   "id": "f650ddb0",
   "metadata": {},
   "source": [
    "call"
   ]
  },
  {
   "cell_type": "code",
   "execution_count": 29,
   "id": "a61bc3ad",
   "metadata": {},
   "outputs": [
    {
     "name": "stdout",
     "output_type": "stream",
     "text": [
      "My Dog\n"
     ]
    }
   ],
   "source": [
    "my_dog = MyDog()\n",
    "my_dog.say_dog()"
   ]
  },
  {
   "cell_type": "markdown",
   "id": "2e69f29b",
   "metadata": {},
   "source": [
    "methord with arguments"
   ]
  },
  {
   "cell_type": "code",
   "execution_count": 37,
   "id": "37f5b189",
   "metadata": {},
   "outputs": [],
   "source": [
    "class MyDog:\n",
    "    def say_puppy(self, name):\n",
    "        print('My dog', name)"
   ]
  },
  {
   "cell_type": "code",
   "execution_count": 38,
   "id": "0443bd42",
   "metadata": {},
   "outputs": [
    {
     "name": "stdout",
     "output_type": "stream",
     "text": [
      "My dog KiKi\n"
     ]
    }
   ],
   "source": [
    "my_dog = MyDog()\n",
    "my_dog.say_puppy('KiKi')"
   ]
  }
 ],
 "metadata": {
  "kernelspec": {
   "display_name": "Python 3",
   "language": "python",
   "name": "python3"
  },
  "language_info": {
   "codemirror_mode": {
    "name": "ipython",
    "version": 3
   },
   "file_extension": ".py",
   "mimetype": "text/x-python",
   "name": "python",
   "nbconvert_exporter": "python",
   "pygments_lexer": "ipython3",
   "version": "3.12.1"
  }
 },
 "nbformat": 4,
 "nbformat_minor": 5
}
