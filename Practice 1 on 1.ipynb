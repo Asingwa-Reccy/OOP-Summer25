{
 "cells": [
  {
   "cell_type": "markdown",
   "id": "7c7a2777",
   "metadata": {},
   "source": [
    "## one on one practice"
   ]
  },
  {
   "cell_type": "code",
   "execution_count": 5,
   "id": "dab5386f",
   "metadata": {},
   "outputs": [
    {
     "name": "stdout",
     "output_type": "stream",
     "text": [
      "reccy\n"
     ]
    }
   ],
   "source": [
    "print(\"reccy\")"
   ]
  },
  {
   "cell_type": "markdown",
   "id": "942414e3",
   "metadata": {},
   "source": [
    "Variable with Set Value"
   ]
  },
  {
   "cell_type": "code",
   "execution_count": 6,
   "id": "f7e3b5cf",
   "metadata": {},
   "outputs": [],
   "source": [
    "x = (7)"
   ]
  },
  {
   "cell_type": "code",
   "execution_count": 7,
   "id": "12852182",
   "metadata": {},
   "outputs": [
    {
     "name": "stdout",
     "output_type": "stream",
     "text": [
      "7\n"
     ]
    }
   ],
   "source": [
    "print(x)"
   ]
  },
  {
   "cell_type": "code",
   "execution_count": 8,
   "id": "d11d8115",
   "metadata": {},
   "outputs": [
    {
     "name": "stdout",
     "output_type": "stream",
     "text": [
      "<class 'int'>\n"
     ]
    }
   ],
   "source": [
    "print(type(x))"
   ]
  },
  {
   "cell_type": "code",
   "execution_count": 11,
   "id": "7cab8c75",
   "metadata": {},
   "outputs": [],
   "source": [
    "My_Name = (\"reccy\")"
   ]
  },
  {
   "cell_type": "code",
   "execution_count": 13,
   "id": "98ec1dc5",
   "metadata": {},
   "outputs": [
    {
     "name": "stdout",
     "output_type": "stream",
     "text": [
      "reccy\n"
     ]
    }
   ],
   "source": [
    "print(My_Name)"
   ]
  },
  {
   "cell_type": "code",
   "execution_count": 12,
   "id": "af9e91d6",
   "metadata": {},
   "outputs": [
    {
     "name": "stdout",
     "output_type": "stream",
     "text": [
      "<class 'str'>\n"
     ]
    }
   ],
   "source": [
    "print(type(My_Name))"
   ]
  },
  {
   "cell_type": "code",
   "execution_count": 14,
   "id": "cd16c0d8",
   "metadata": {},
   "outputs": [],
   "source": [
    "Girls = [\"Reccy\", \"Theodora\", \"Shaniqwa\", \"Betty\"]"
   ]
  },
  {
   "cell_type": "code",
   "execution_count": 15,
   "id": "93571c7a",
   "metadata": {},
   "outputs": [
    {
     "name": "stdout",
     "output_type": "stream",
     "text": [
      "Reccy\n",
      "Theodora\n",
      "Shaniqwa\n",
      "Betty\n"
     ]
    }
   ],
   "source": [
    "for g in Girls:\n",
    "    print(g)"
   ]
  },
  {
   "cell_type": "code",
   "execution_count": 16,
   "id": "16a552b4",
   "metadata": {},
   "outputs": [
    {
     "name": "stdout",
     "output_type": "stream",
     "text": [
      "Reccy\n",
      "This girl is gorgious\n",
      "Theodora\n",
      "Shaniqwa\n",
      "Betty\n"
     ]
    }
   ],
   "source": [
    "for g in Girls:\n",
    "    print(g)\n",
    "    if g == 'Reccy':\n",
    "        print('This girl is gorgious')"
   ]
  },
  {
   "cell_type": "markdown",
   "id": "4059fc5c",
   "metadata": {},
   "source": [
    "dictionary"
   ]
  },
  {
   "cell_type": "code",
   "execution_count": 29,
   "id": "7be8d9d0",
   "metadata": {},
   "outputs": [],
   "source": [
    "Student1 = {\n",
    "    'name':'Pinky Gilani',\n",
    "    'admission_number':'2022'\n",
    "}"
   ]
  },
  {
   "cell_type": "code",
   "execution_count": 31,
   "id": "83d0aa42",
   "metadata": {},
   "outputs": [
    {
     "name": "stdout",
     "output_type": "stream",
     "text": [
      "My name is Pinky Gilani 2022\n"
     ]
    }
   ],
   "source": [
    "print(\"My name is\", Student1 ['name'], Student1['admission_number'])"
   ]
  },
  {
   "cell_type": "code",
   "execution_count": 36,
   "id": "18a04e05",
   "metadata": {},
   "outputs": [],
   "source": [
    "Mountain_1 = {\n",
    "    'name' : 'Morske Oko',\n",
    "    'height_altitude' : '1500m'\n",
    "}"
   ]
  },
  {
   "cell_type": "code",
   "execution_count": 38,
   "id": "7e2f085e",
   "metadata": {},
   "outputs": [
    {
     "name": "stdout",
     "output_type": "stream",
     "text": [
      "Morske Oko is perfect for camping at 1500m above sea level\n"
     ]
    }
   ],
   "source": [
    "print(Mountain_1 ['name'], \"is perfect for camping at\",Mountain_1['height_altitude'],\"above sea level\" )"
   ]
  },
  {
   "cell_type": "markdown",
   "id": "6b9599a6",
   "metadata": {},
   "source": [
    "## Dictionary"
   ]
  },
  {
   "cell_type": "markdown",
   "id": "c2dd6470",
   "metadata": {},
   "source": [
    "1. Dictionary for students (name and index number)"
   ]
  },
  {
   "cell_type": "code",
   "execution_count": 40,
   "id": "5606b467",
   "metadata": {},
   "outputs": [],
   "source": [
    "Student1 = {\n",
    "    'name' : 'Pinky Gilani',\n",
    "    'index_number' : '20205'\n",
    "}"
   ]
  },
  {
   "cell_type": "code",
   "execution_count": 41,
   "id": "586084eb",
   "metadata": {},
   "outputs": [
    {
     "name": "stdout",
     "output_type": "stream",
     "text": [
      "My name is Pinky Gilani 20205\n"
     ]
    }
   ],
   "source": [
    "print(\"My name is\", Student1['name'],Student1['index_number'])"
   ]
  },
  {
   "cell_type": "markdown",
   "id": "1c27008c",
   "metadata": {},
   "source": [
    "## Class"
   ]
  },
  {
   "cell_type": "markdown",
   "id": "79ac5de8",
   "metadata": {},
   "source": [
    "2. Class for Students"
   ]
  },
  {
   "cell_type": "code",
   "execution_count": 1,
   "id": "9faf42ac",
   "metadata": {},
   "outputs": [],
   "source": [
    "class student:\n",
    "    def __init__(self, name, index_number):\n",
    "        self.name = name\n",
    "        self.index_number = index_number"
   ]
  },
  {
   "cell_type": "markdown",
   "id": "853c260b",
   "metadata": {},
   "source": [
    "Object for Class"
   ]
  },
  {
   "cell_type": "code",
   "execution_count": 2,
   "id": "e284266a",
   "metadata": {},
   "outputs": [],
   "source": [
    "Student1 = student ('remy', '20205')\n",
    "Student2 = student ('alvaro', '20206')\n",
    "Student3 = student ('Pinky Blue', '20207')"
   ]
  },
  {
   "cell_type": "markdown",
   "id": "59ff25e0",
   "metadata": {},
   "source": [
    "Print Student"
   ]
  },
  {
   "cell_type": "code",
   "execution_count": 5,
   "id": "7b8e2c87",
   "metadata": {},
   "outputs": [
    {
     "name": "stdout",
     "output_type": "stream",
     "text": [
      "remy 20205\n",
      "alvaro 20206\n",
      "alvaro 20206\n"
     ]
    }
   ],
   "source": [
    "print(Student1.name, Student1.index_number)\n",
    "print(Student2.name, Student2.index_number)\n",
    "print(Student2.name, Student2.index_number)"
   ]
  }
 ],
 "metadata": {
  "kernelspec": {
   "display_name": "Python 3",
   "language": "python",
   "name": "python3"
  },
  "language_info": {
   "codemirror_mode": {
    "name": "ipython",
    "version": 3
   },
   "file_extension": ".py",
   "mimetype": "text/x-python",
   "name": "python",
   "nbconvert_exporter": "python",
   "pygments_lexer": "ipython3",
   "version": "3.12.1"
  }
 },
 "nbformat": 4,
 "nbformat_minor": 5
}
